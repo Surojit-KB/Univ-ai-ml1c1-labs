{
  "nbformat": 4,
  "nbformat_minor": 0,
  "metadata": {
    "colab": {
      "name": "distribute_Lab1.ipynb",
      "provenance": [],
      "include_colab_link": true
    },
    "kernelspec": {
      "display_name": "Python 3",
      "language": "python",
      "name": "python3"
    },
    "language_info": {
      "codemirror_mode": {
        "name": "ipython",
        "version": 3
      },
      "file_extension": ".py",
      "mimetype": "text/x-python",
      "name": "python",
      "nbconvert_exporter": "python",
      "pygments_lexer": "ipython3",
      "version": "3.7.6"
    },
    "widgets": {
      "application/vnd.jupyter.widget-state+json": {
        "09537c70690c4f4ba2146b0679efedae": {
          "model_module": "@jupyter-widgets/controls",
          "model_name": "HBoxModel",
          "state": {
            "_view_name": "HBoxView",
            "_dom_classes": [],
            "_model_name": "HBoxModel",
            "_view_module": "@jupyter-widgets/controls",
            "_model_module_version": "1.5.0",
            "_view_count": null,
            "_view_module_version": "1.5.0",
            "box_style": "",
            "layout": "IPY_MODEL_2b2a2b8cc19340c49ffb806c73d9b61d",
            "_model_module": "@jupyter-widgets/controls",
            "children": [
              "IPY_MODEL_9fc0feab62df4c43a0e8242b0a3ea261",
              "IPY_MODEL_22660c4c42c94af5be0b11126b2feae5"
            ]
          }
        },
        "2b2a2b8cc19340c49ffb806c73d9b61d": {
          "model_module": "@jupyter-widgets/base",
          "model_name": "LayoutModel",
          "state": {
            "_view_name": "LayoutView",
            "grid_template_rows": null,
            "right": null,
            "justify_content": null,
            "_view_module": "@jupyter-widgets/base",
            "overflow": null,
            "_model_module_version": "1.2.0",
            "_view_count": null,
            "flex_flow": null,
            "width": null,
            "min_width": null,
            "border": null,
            "align_items": null,
            "bottom": null,
            "_model_module": "@jupyter-widgets/base",
            "top": null,
            "grid_column": null,
            "overflow_y": null,
            "overflow_x": null,
            "grid_auto_flow": null,
            "grid_area": null,
            "grid_template_columns": null,
            "flex": null,
            "_model_name": "LayoutModel",
            "justify_items": null,
            "grid_row": null,
            "max_height": null,
            "align_content": null,
            "visibility": null,
            "align_self": null,
            "height": null,
            "min_height": null,
            "padding": null,
            "grid_auto_rows": null,
            "grid_gap": null,
            "max_width": null,
            "order": null,
            "_view_module_version": "1.2.0",
            "grid_template_areas": null,
            "object_position": null,
            "object_fit": null,
            "grid_auto_columns": null,
            "margin": null,
            "display": null,
            "left": null
          }
        },
        "9fc0feab62df4c43a0e8242b0a3ea261": {
          "model_module": "@jupyter-widgets/controls",
          "model_name": "FloatProgressModel",
          "state": {
            "_view_name": "ProgressView",
            "style": "IPY_MODEL_c31e8f292ca24d0a8eac09125c057971",
            "_dom_classes": [],
            "description": "100%",
            "_model_name": "FloatProgressModel",
            "bar_style": "success",
            "max": 100,
            "_view_module": "@jupyter-widgets/controls",
            "_model_module_version": "1.5.0",
            "value": 100,
            "_view_count": null,
            "_view_module_version": "1.5.0",
            "orientation": "horizontal",
            "min": 0,
            "description_tooltip": null,
            "_model_module": "@jupyter-widgets/controls",
            "layout": "IPY_MODEL_19c084df067e4cdc9465fb2367d4f84d"
          }
        },
        "22660c4c42c94af5be0b11126b2feae5": {
          "model_module": "@jupyter-widgets/controls",
          "model_name": "HTMLModel",
          "state": {
            "_view_name": "HTMLView",
            "style": "IPY_MODEL_5cb91cc88b79408a914e9fb3e4158d5a",
            "_dom_classes": [],
            "description": "",
            "_model_name": "HTMLModel",
            "placeholder": "​",
            "_view_module": "@jupyter-widgets/controls",
            "_model_module_version": "1.5.0",
            "value": " 100/100 [25:37&lt;00:00, 15.38s/it]",
            "_view_count": null,
            "_view_module_version": "1.5.0",
            "description_tooltip": null,
            "_model_module": "@jupyter-widgets/controls",
            "layout": "IPY_MODEL_cd619c3d897d45eb9cf91e6c91973e5a"
          }
        },
        "c31e8f292ca24d0a8eac09125c057971": {
          "model_module": "@jupyter-widgets/controls",
          "model_name": "ProgressStyleModel",
          "state": {
            "_view_name": "StyleView",
            "_model_name": "ProgressStyleModel",
            "description_width": "initial",
            "_view_module": "@jupyter-widgets/base",
            "_model_module_version": "1.5.0",
            "_view_count": null,
            "_view_module_version": "1.2.0",
            "bar_color": null,
            "_model_module": "@jupyter-widgets/controls"
          }
        },
        "19c084df067e4cdc9465fb2367d4f84d": {
          "model_module": "@jupyter-widgets/base",
          "model_name": "LayoutModel",
          "state": {
            "_view_name": "LayoutView",
            "grid_template_rows": null,
            "right": null,
            "justify_content": null,
            "_view_module": "@jupyter-widgets/base",
            "overflow": null,
            "_model_module_version": "1.2.0",
            "_view_count": null,
            "flex_flow": null,
            "width": null,
            "min_width": null,
            "border": null,
            "align_items": null,
            "bottom": null,
            "_model_module": "@jupyter-widgets/base",
            "top": null,
            "grid_column": null,
            "overflow_y": null,
            "overflow_x": null,
            "grid_auto_flow": null,
            "grid_area": null,
            "grid_template_columns": null,
            "flex": null,
            "_model_name": "LayoutModel",
            "justify_items": null,
            "grid_row": null,
            "max_height": null,
            "align_content": null,
            "visibility": null,
            "align_self": null,
            "height": null,
            "min_height": null,
            "padding": null,
            "grid_auto_rows": null,
            "grid_gap": null,
            "max_width": null,
            "order": null,
            "_view_module_version": "1.2.0",
            "grid_template_areas": null,
            "object_position": null,
            "object_fit": null,
            "grid_auto_columns": null,
            "margin": null,
            "display": null,
            "left": null
          }
        },
        "5cb91cc88b79408a914e9fb3e4158d5a": {
          "model_module": "@jupyter-widgets/controls",
          "model_name": "DescriptionStyleModel",
          "state": {
            "_view_name": "StyleView",
            "_model_name": "DescriptionStyleModel",
            "description_width": "",
            "_view_module": "@jupyter-widgets/base",
            "_model_module_version": "1.5.0",
            "_view_count": null,
            "_view_module_version": "1.2.0",
            "_model_module": "@jupyter-widgets/controls"
          }
        },
        "cd619c3d897d45eb9cf91e6c91973e5a": {
          "model_module": "@jupyter-widgets/base",
          "model_name": "LayoutModel",
          "state": {
            "_view_name": "LayoutView",
            "grid_template_rows": null,
            "right": null,
            "justify_content": null,
            "_view_module": "@jupyter-widgets/base",
            "overflow": null,
            "_model_module_version": "1.2.0",
            "_view_count": null,
            "flex_flow": null,
            "width": null,
            "min_width": null,
            "border": null,
            "align_items": null,
            "bottom": null,
            "_model_module": "@jupyter-widgets/base",
            "top": null,
            "grid_column": null,
            "overflow_y": null,
            "overflow_x": null,
            "grid_auto_flow": null,
            "grid_area": null,
            "grid_template_columns": null,
            "flex": null,
            "_model_name": "LayoutModel",
            "justify_items": null,
            "grid_row": null,
            "max_height": null,
            "align_content": null,
            "visibility": null,
            "align_self": null,
            "height": null,
            "min_height": null,
            "padding": null,
            "grid_auto_rows": null,
            "grid_gap": null,
            "max_width": null,
            "order": null,
            "_view_module_version": "1.2.0",
            "grid_template_areas": null,
            "object_position": null,
            "object_fit": null,
            "grid_auto_columns": null,
            "margin": null,
            "display": null,
            "left": null
          }
        },
        "5bd4cdfde85048ff81fa2b4362ab3f3b": {
          "model_module": "@jupyter-widgets/controls",
          "model_name": "HBoxModel",
          "state": {
            "_view_name": "HBoxView",
            "_dom_classes": [],
            "_model_name": "HBoxModel",
            "_view_module": "@jupyter-widgets/controls",
            "_model_module_version": "1.5.0",
            "_view_count": null,
            "_view_module_version": "1.5.0",
            "box_style": "",
            "layout": "IPY_MODEL_f2686f6274bb4b8ab3dfeb790a1e51aa",
            "_model_module": "@jupyter-widgets/controls",
            "children": [
              "IPY_MODEL_5f7048fdc0a64a4bbbe451e74a06d3bc",
              "IPY_MODEL_115f616d792140e79c2ae3e8a5659406"
            ]
          }
        },
        "f2686f6274bb4b8ab3dfeb790a1e51aa": {
          "model_module": "@jupyter-widgets/base",
          "model_name": "LayoutModel",
          "state": {
            "_view_name": "LayoutView",
            "grid_template_rows": null,
            "right": null,
            "justify_content": null,
            "_view_module": "@jupyter-widgets/base",
            "overflow": null,
            "_model_module_version": "1.2.0",
            "_view_count": null,
            "flex_flow": null,
            "width": null,
            "min_width": null,
            "border": null,
            "align_items": null,
            "bottom": null,
            "_model_module": "@jupyter-widgets/base",
            "top": null,
            "grid_column": null,
            "overflow_y": null,
            "overflow_x": null,
            "grid_auto_flow": null,
            "grid_area": null,
            "grid_template_columns": null,
            "flex": null,
            "_model_name": "LayoutModel",
            "justify_items": null,
            "grid_row": null,
            "max_height": null,
            "align_content": null,
            "visibility": null,
            "align_self": null,
            "height": null,
            "min_height": null,
            "padding": null,
            "grid_auto_rows": null,
            "grid_gap": null,
            "max_width": null,
            "order": null,
            "_view_module_version": "1.2.0",
            "grid_template_areas": null,
            "object_position": null,
            "object_fit": null,
            "grid_auto_columns": null,
            "margin": null,
            "display": null,
            "left": null
          }
        },
        "5f7048fdc0a64a4bbbe451e74a06d3bc": {
          "model_module": "@jupyter-widgets/controls",
          "model_name": "FloatProgressModel",
          "state": {
            "_view_name": "ProgressView",
            "style": "IPY_MODEL_ff814ceb7ca34216a909577a24d4d792",
            "_dom_classes": [],
            "description": "100%",
            "_model_name": "FloatProgressModel",
            "bar_style": "success",
            "max": 100,
            "_view_module": "@jupyter-widgets/controls",
            "_model_module_version": "1.5.0",
            "value": 100,
            "_view_count": null,
            "_view_module_version": "1.5.0",
            "orientation": "horizontal",
            "min": 0,
            "description_tooltip": null,
            "_model_module": "@jupyter-widgets/controls",
            "layout": "IPY_MODEL_8fc1ef4952054b1c8e706c048d47f25f"
          }
        },
        "115f616d792140e79c2ae3e8a5659406": {
          "model_module": "@jupyter-widgets/controls",
          "model_name": "HTMLModel",
          "state": {
            "_view_name": "HTMLView",
            "style": "IPY_MODEL_7337ea7085454095b18443d736549c41",
            "_dom_classes": [],
            "description": "",
            "_model_name": "HTMLModel",
            "placeholder": "​",
            "_view_module": "@jupyter-widgets/controls",
            "_model_module_version": "1.5.0",
            "value": " 100/100 [18:55&lt;00:00, 11.35s/it]",
            "_view_count": null,
            "_view_module_version": "1.5.0",
            "description_tooltip": null,
            "_model_module": "@jupyter-widgets/controls",
            "layout": "IPY_MODEL_08288862cd5046499ba3677162d12002"
          }
        },
        "ff814ceb7ca34216a909577a24d4d792": {
          "model_module": "@jupyter-widgets/controls",
          "model_name": "ProgressStyleModel",
          "state": {
            "_view_name": "StyleView",
            "_model_name": "ProgressStyleModel",
            "description_width": "initial",
            "_view_module": "@jupyter-widgets/base",
            "_model_module_version": "1.5.0",
            "_view_count": null,
            "_view_module_version": "1.2.0",
            "bar_color": null,
            "_model_module": "@jupyter-widgets/controls"
          }
        },
        "8fc1ef4952054b1c8e706c048d47f25f": {
          "model_module": "@jupyter-widgets/base",
          "model_name": "LayoutModel",
          "state": {
            "_view_name": "LayoutView",
            "grid_template_rows": null,
            "right": null,
            "justify_content": null,
            "_view_module": "@jupyter-widgets/base",
            "overflow": null,
            "_model_module_version": "1.2.0",
            "_view_count": null,
            "flex_flow": null,
            "width": null,
            "min_width": null,
            "border": null,
            "align_items": null,
            "bottom": null,
            "_model_module": "@jupyter-widgets/base",
            "top": null,
            "grid_column": null,
            "overflow_y": null,
            "overflow_x": null,
            "grid_auto_flow": null,
            "grid_area": null,
            "grid_template_columns": null,
            "flex": null,
            "_model_name": "LayoutModel",
            "justify_items": null,
            "grid_row": null,
            "max_height": null,
            "align_content": null,
            "visibility": null,
            "align_self": null,
            "height": null,
            "min_height": null,
            "padding": null,
            "grid_auto_rows": null,
            "grid_gap": null,
            "max_width": null,
            "order": null,
            "_view_module_version": "1.2.0",
            "grid_template_areas": null,
            "object_position": null,
            "object_fit": null,
            "grid_auto_columns": null,
            "margin": null,
            "display": null,
            "left": null
          }
        },
        "7337ea7085454095b18443d736549c41": {
          "model_module": "@jupyter-widgets/controls",
          "model_name": "DescriptionStyleModel",
          "state": {
            "_view_name": "StyleView",
            "_model_name": "DescriptionStyleModel",
            "description_width": "",
            "_view_module": "@jupyter-widgets/base",
            "_model_module_version": "1.5.0",
            "_view_count": null,
            "_view_module_version": "1.2.0",
            "_model_module": "@jupyter-widgets/controls"
          }
        },
        "08288862cd5046499ba3677162d12002": {
          "model_module": "@jupyter-widgets/base",
          "model_name": "LayoutModel",
          "state": {
            "_view_name": "LayoutView",
            "grid_template_rows": null,
            "right": null,
            "justify_content": null,
            "_view_module": "@jupyter-widgets/base",
            "overflow": null,
            "_model_module_version": "1.2.0",
            "_view_count": null,
            "flex_flow": null,
            "width": null,
            "min_width": null,
            "border": null,
            "align_items": null,
            "bottom": null,
            "_model_module": "@jupyter-widgets/base",
            "top": null,
            "grid_column": null,
            "overflow_y": null,
            "overflow_x": null,
            "grid_auto_flow": null,
            "grid_area": null,
            "grid_template_columns": null,
            "flex": null,
            "_model_name": "LayoutModel",
            "justify_items": null,
            "grid_row": null,
            "max_height": null,
            "align_content": null,
            "visibility": null,
            "align_self": null,
            "height": null,
            "min_height": null,
            "padding": null,
            "grid_auto_rows": null,
            "grid_gap": null,
            "max_width": null,
            "order": null,
            "_view_module_version": "1.2.0",
            "grid_template_areas": null,
            "object_position": null,
            "object_fit": null,
            "grid_auto_columns": null,
            "margin": null,
            "display": null,
            "left": null
          }
        }
      }
    }
  },
  "cells": [
    {
      "cell_type": "markdown",
      "metadata": {
        "id": "view-in-github",
        "colab_type": "text"
      },
      "source": [
        "<a href=\"https://colab.research.google.com/github/Surojit-KB/Univ-ai-ml1c1-labs/blob/main/distribute_Lab1.ipynb\" target=\"_parent\"><img src=\"https://colab.research.google.com/assets/colab-badge.svg\" alt=\"Open In Colab\"/></a>"
      ]
    },
    {
      "cell_type": "markdown",
      "metadata": {
        "id": "nWHZlEbr_34A"
      },
      "source": [
        "## Lab 1: Goodreads Parsing and Scraping\r\n",
        "**Univ.AI** <br>\r\n",
        "**DS-1 Cohort 1**\r\n"
      ]
    },
    {
      "cell_type": "markdown",
      "metadata": {
        "id": "0dcNwcwJsJhh"
      },
      "source": [
        "## Table of Contents\r\n",
        "* [Lab1: Goodreads Scraping and Parsing](#Lab1:-Goodreads-Scraping-and-Parsing)\r\n",
        "  * [Learning Goals](##Learning-Goals)\r\n",
        "  * [Q1: Scrape the \"Best Books ever\" web page](##Q1:-Scrape-the-\"Best-Books-ever\"-web-page)\r\n",
        "  * [Q2: Parse the page, extract book urls](##Q2:-Parse-the-page,-extract-book-urls)\r\n",
        "  * [Q3: Scrape the web page of each book](##Q3:-Scrape-the-web-page-of-each-book)\r\n",
        "  * [Q4: Parse each books page, extract information](##Q4:-Parse-each-books-page,-extract-information)\r\n",
        "    * [4.1 Extract genres](###4.1-Extract-Genres)\r\n",
        "    * [4.2 Extract Published Year](###4.2-Extract-Published-Year)\r\n",
        "    * [4.3 Extract Rating, ISBN, Title of the book, Author and Rating Count](###4.3-Extract-Rating,-ISBN,-Title-of-the-book,-Author-and-Rating-Count)\r\n",
        "    * [4.4 Creating a DataFrame](###4.4-Creating-a-DataFrame)\r\n"
      ]
    },
    {
      "cell_type": "markdown",
      "metadata": {
        "id": "Z3Tuwno9_367"
      },
      "source": [
        "## Learning Goals \n",
        "Goodreads has put out a list of the \"Best Books ever\", as voted on by around 200,000 people from the general Goodreads community. \n",
        "\n",
        "In this lab, we will be scraping and extracting information from Goodread's \"[Best Books ever](https://www.goodreads.com/list/show/1.Best_Books_Ever?page=1)\" list.\n",
        "\n",
        "This lab consists of four main parts:\n",
        "1. Scraping the \"Best Books ever\" web page\n",
        "2. Parsing the page, extract book urls\n",
        "3. Scraping the web page of each book\n",
        "4. Parsing a book page, extract book properties\n",
        "\n",
        "This lab will develop your skills in:\n",
        "* Exploring web pages through developer tools \n",
        "* Scraping and Parsing using Beautiful Soup and requests"
      ]
    },
    {
      "cell_type": "code",
      "metadata": {
        "id": "6PPYEYMj_37E"
      },
      "source": [
        "#Import libraries\n",
        "%matplotlib inline\n",
        "import numpy as np\n",
        "import matplotlib.pyplot as plt\n",
        "import pandas as pd\n",
        "import re\n",
        "import time, requests"
      ],
      "execution_count": 37,
      "outputs": []
    },
    {
      "cell_type": "markdown",
      "metadata": {
        "id": "SxSM_hL__37K"
      },
      "source": [
        "## Q1: Scrape the  \"Best Books ever\" web page\n",
        "We're going to see the structure of Goodread's best books list. \n",
        "\n",
        "To get this page we use pythons [requests module](https://requests.readthedocs.io/en/master/). "
      ]
    },
    {
      "cell_type": "code",
      "metadata": {
        "id": "yfZ5KA5i_37O"
      },
      "source": [
        "#Getting the url using requests module\n",
        "URLSTART=\"https://www.goodreads.com\"\n",
        "BESTBOOKS=\"/list/show/1.Best_Books_Ever?page=\"\n",
        "url = URLSTART+BESTBOOKS+'1'\n",
        "page = requests.get(url)"
      ],
      "execution_count": 38,
      "outputs": []
    },
    {
      "cell_type": "markdown",
      "metadata": {
        "id": "63XN7F7evAK5"
      },
      "source": [
        "Check the status of the page - 200 is OK and 404 is not good!"
      ]
    },
    {
      "cell_type": "code",
      "metadata": {
        "colab": {
          "base_uri": "https://localhost:8080/"
        },
        "id": "DayARHGc_37d",
        "outputId": "524e0c29-9e7b-4c5a-9d45-03801f41137f"
      },
      "source": [
        "page.status_code"
      ],
      "execution_count": 39,
      "outputs": [
        {
          "output_type": "execute_result",
          "data": {
            "text/plain": [
              "200"
            ]
          },
          "metadata": {
            "tags": []
          },
          "execution_count": 39
        }
      ]
    },
    {
      "cell_type": "markdown",
      "metadata": {
        "id": "iLc5msTFvIOt"
      },
      "source": [
        "Now that we are familiar with pythons request module, let us access the first two pages from Goodreads. \r\n",
        "\r\n",
        "This will mean you will need to scrape **two** URLs: https://www.goodreads.com/list/show/1.Best_Books_Ever?page=1 and  https://www.goodreads.com/list/show/1.Best_Books_Ever?page=2. \r\n",
        "\r\n",
        "<br>\r\n",
        "\r\n",
        "**Hint:** To do this, you can put your request.get() function in a `for` loop.<br>\r\n",
        "You will also need to use the time.sleep() function to wait for 1 second between the two get requests so that Goodread's doesn't think you are a threat attempting to mount a denial-of-service attack!<br>\r\n",
        "In addition to this, store the HTML text in a dictionary `page_dict`. The key should be the page number (1 or 2) and the value should be the HTML text corresponding the page."
      ]
    },
    {
      "cell_type": "code",
      "metadata": {
        "id": "CFAKLa5d_37i"
      },
      "source": [
        "#Loop to fetch 2 pages of \"best-books\" from goodreads. \n",
        "URLSTART=\"https://www.goodreads.com\"\n",
        "BESTBOOKS=\"/list/show/1.Best_Books_Ever?page=\"\n",
        "\n",
        "page_dict={}\n",
        "\n",
        "#your code here\n",
        "for i in range(1,3):\n",
        "  url = URLSTART+BESTBOOKS+str(i)\n",
        "  page = requests.get(url)\n",
        "  page_dict[i]=page\n",
        "  time.sleep(5)"
      ],
      "execution_count": 78,
      "outputs": []
    },
    {
      "cell_type": "markdown",
      "metadata": {
        "id": "ghXGaY1s_37p"
      },
      "source": [
        "## Q2: Parse the page, extract book urls\n",
        "\n",
        "Our next step should be to parse the HTML text we have saved from the previous section and extract the information we need. \n",
        "\n",
        "To do this, we will be using BeautifulSoup to transform HTML content into Python data structures. You can also use other libraries like PyQuery if you are comfortable with jQuery, but we will be using BeautifulSoup.\n"
      ]
    },
    {
      "cell_type": "code",
      "metadata": {
        "id": "es2gh_EQ_37w"
      },
      "source": [
        "#Import BeautifulSoup\n",
        "from bs4 import BeautifulSoup"
      ],
      "execution_count": 42,
      "outputs": []
    },
    {
      "cell_type": "markdown",
      "metadata": {
        "id": "YOeTQrYtxILB"
      },
      "source": [
        "Our aim is to extract the **book URLs** on the page in order to use it in further sections. \r\n",
        "\r\n",
        "To do this, we look for the elements with class bookTitle, extract the urls, and write them into a dictionary `urldict` where the keys are the page numbers and the values are a list of the book URLs extracted from the page.\r\n",
        "\r\n",
        "\r\n",
        "**Hint:** While parsing the HTML, look for the HTML a element, but only the one that has a CSS class of `bookTitle`. If you look at the page source, you'll see a construct like **`class=bookTitle`** on the table as seen below:\r\n",
        "<br><br>\r\n",
        "![goodreadsexample](https://drive.google.com/uc?export=view&id=1PUvIe7VkXFSkvrj4pZm0pRKWr6W8Rw0F)\r\n"
      ]
    },
    {
      "cell_type": "code",
      "metadata": {
        "id": "iAjmZFIH_375"
      },
      "source": [
        "urldict={}\n",
        "titledict={}\n",
        "#your code here\n",
        "for i in range(1,3):\n",
        "  soup=BeautifulSoup(page_dict[i].text,'html.parser')\n",
        "  urldict[i]=[s['href'] for s in soup.find_all('a','bookTitle')]\n",
        "  titledict[i]=[s.contents[0] for s in soup.find_all('span',attrs={\"itemprop\": \"name\",\"role\":\"heading\"})]"
      ],
      "execution_count": 75,
      "outputs": []
    },
    {
      "cell_type": "markdown",
      "metadata": {
        "id": "S5c9Ip_A_379"
      },
      "source": [
        "## Q3: Scrape the web page of each book"
      ]
    },
    {
      "cell_type": "markdown",
      "metadata": {
        "id": "5GB1tiwv4qdH"
      },
      "source": [
        "Now that we have the book URLs in a dictionary `urldict`, we can parse the web pages of the books itself to extract some information. <br>\r\n",
        "\r\n",
        "Before we extract information, we will need to get the HTML text for each book's page. \r\n",
        "Scrape the books web pages and store the HTML text for each book in a dictionary named `bookdict` using a `for` loop in a similar fashion as before."
      ]
    },
    {
      "cell_type": "code",
      "metadata": {
        "colab": {
          "base_uri": "https://localhost:8080/"
        },
        "id": "3Hfb0MK3_37_",
        "outputId": "8cf7e48f-ee0f-4e21-a38e-447b531e04dd"
      },
      "source": [
        "#This is just an **example** to understand how to scarpe these files\n",
        "#Scraping one of the files\n",
        "URLSTART=\"https://www.goodreads.com\"\n",
        "book_url=URLSTART+urldict[2][0]\n",
        "stuff=requests.get(book_url)\n",
        "\n",
        "#Check the status of the page\n",
        "print(stuff.status_code)\n",
        "\n",
        "#All OK!"
      ],
      "execution_count": 67,
      "outputs": [
        {
          "output_type": "stream",
          "text": [
            "200\n"
          ],
          "name": "stdout"
        }
      ]
    },
    {
      "cell_type": "markdown",
      "metadata": {
        "id": "IeDDwZn6-FSn"
      },
      "source": [
        "##Q4: Parse each books page, extract information\r\n",
        "\r\n",
        "Now that we have the HTML text for the books, we can extract information from these web pages. \r\n",
        "We intend to extract the following data:\r\n",
        "\r\n",
        "- Published year\r\n",
        "- Rating\r\n",
        "- ISBN \r\n",
        "- Title of the book\r\n",
        "- Author\r\n",
        "- Genres this book fits in. Since there are several genres associated with each book, you will need to extract the URL of each genre, separated by a pipe '|' like so:\r\n",
        "```\r\n",
        "/genres/young-adult|/genres/fiction|/genres/science-fiction|/genres/dystopia|/genres/fantasy|/genres/science-fiction|/genres/romance|/genres/adventure|\r\n",
        "```\r\n",
        "- Rating count, the number of people who have rated this book\r\n",
        "<br>\r\n",
        "<br> \r\n",
        "All this information can be seen on the web page.\r\n",
        "You will need to go to the developer tools and extract the necessary information. \r\n",
        "<br>\r\n",
        "<br>\r\n",
        "\r\n",
        "Since Published year and Genre require some extra processing to be extracted, we will start by writing 2 functions - `get_genre` and `get_year`."
      ]
    },
    {
      "cell_type": "markdown",
      "metadata": {
        "id": "wXJxwcREJGqQ"
      },
      "source": [
        "### 4.1 Extract Genres\r\n",
        "\r\n",
        "Write a function to get the genres which takes as input the HTML text and outputs a list of the genre URLs."
      ]
    },
    {
      "cell_type": "code",
      "metadata": {
        "id": "c2YIBd9H_38o"
      },
      "source": [
        "#Extracting genre\n",
        "#your code here\n",
        "def get_genre(d):\n",
        "  genre=\"|\".join([g['href'] for g in d.find_all(\"a\",attrs={\"class\": \"actionLinkLite bookPageGenreLink\"})])\n",
        "  return genre"
      ],
      "execution_count": 45,
      "outputs": []
    },
    {
      "cell_type": "markdown",
      "metadata": {
        "id": "g9WDGFGbJKzp"
      },
      "source": [
        "### 4.2 Extract Published Year"
      ]
    },
    {
      "cell_type": "markdown",
      "metadata": {
        "id": "zP9BpEv5M2nk"
      },
      "source": [
        "Write a function to get the published year which takes as input the HTML text.\r\n",
        "\r\n",
        "You might have to use regular expressions to extract only the year Published Date seen in the web pages."
      ]
    },
    {
      "cell_type": "markdown",
      "metadata": {
        "id": "nM0Smiwf_38h"
      },
      "source": [
        "**Regular expressions** <br>\n",
        "Regular Expressions is a pattern matching mechanism used throughout Computer Science and programming (it's not just specific to Python). A tutorial on Regular Expressions (aka regex) is beond this lab, but below are many great resources that we recommend, if you are interested in them (could be very useful for a homework problem):<br>\n",
        "https://docs.python.org/3.3/library/re.html <br>\n",
        "https://regexone.com <br>\n",
        "https://docs.python.org/3/howto/regex.html <br>\n"
      ]
    },
    {
      "cell_type": "code",
      "metadata": {
        "id": "U1rmGa9B_38j"
      },
      "source": [
        "#Extracting published year\n",
        "yearre = r'\\d{4}'\n",
        "def get_year(d):\n",
        "  years=d.find(\"div\", attrs={\"class\": \"uitext darkGreyText\"})\n",
        "  years=years.findChildren(\"div\")[1].text\n",
        "  yearmatch=re.findall(yearre,years)\n",
        "  years_original=d.find_all(\"nobr\", attrs={\"class\": \"greyText\"})\n",
        "  if years_original!=[]:\n",
        "    finalyear=years.strip()[-5:-1]\n",
        "    return finalyear\n",
        "  else:\n",
        "      if len(yearmatch) > 0:\n",
        "          finalyear=yearmatch[0]\n",
        "      else:\n",
        "          finalyear=\"NA\"\n",
        "      return finalyear"
      ],
      "execution_count": 154,
      "outputs": []
    },
    {
      "cell_type": "markdown",
      "metadata": {
        "id": "y-y8tarRJUJW"
      },
      "source": [
        "### 4.3 Extract Rating, ISBN, Title of the book, Author and Rating Count"
      ]
    },
    {
      "cell_type": "markdown",
      "metadata": {
        "id": "Aemp8j2gJfNf"
      },
      "source": [
        "Now that you have created functions to extract genres and published years, you can extract the rest of the fields in a line or two.\r\n",
        "\r\n",
        "Extract the other fields and incorporate your functions to get a **list of dictionaries**. Each element in the list is a dictionary with the information you have extracted (Published year, Rating, ISBN, Title of the book, Author, Genres, Rating Count).\r\n",
        "<br>\r\n",
        "<br>\r\n",
        "So **each element in the list** should look something like this:\r\n",
        "```\r\n",
        "{'author': 'https://www.goodreads.com/author/show/153394.Suzanne_Collins',\r\n",
        " 'booktype': 'books.book',\r\n",
        " 'rating': 4.33,\r\n",
        " 'genres': '/genres/young-adult|/genres/fiction|/genres/science-fiction|/genres/dystopia|/genres/fantasy|/genres/science-fiction|/genres/romance|/genres/adventure|/genres/young-adult|/genres/teen|/genres/apocalyptic|/genres/post-apocalyptic|/genres/action',\r\n",
        " 'isbn': '9780439023481',\r\n",
        " 'ratingCount': '6554254',\r\n",
        " 'title': 'The Hunger Games (The Hunger Games, #1)',\r\n",
        " 'year': '2008'}\r\n",
        "```\r\n",
        "\r\n",
        "**Note**: Remember to convert your list of genres to a string seperated with the pipe character '|'.\r\n"
      ]
    },
    {
      "cell_type": "code",
      "metadata": {
        "id": "5TKaGEt6_38p"
      },
      "source": [
        "#your code here\n",
        "def get_details(d,i,j):\n",
        "  try:\n",
        "    isbn=d.find(\"span\",attrs={\"itemprop\": \"isbn\"}).contents[0]\n",
        "  except AttributeError:\n",
        "    isbn='NA'\n",
        "  rating=float(d.find(\"span\",attrs={\"itemprop\": \"ratingValue\"}).contents[0].strip())\n",
        "  ratingCount=int(d.find(\"meta\",attrs={\"itemprop\": \"ratingCount\"})['content'])\n",
        "  author_url=\",\".join([author['href'] for author in book_soup.find(\"span\",attrs={\"itemprop\": \"author\"}).findChildren('a')])\n",
        "  author_name=\",\".join([soup.contents[0] for soup in book_soup.find_all(\"span\",attrs={\"itemprop\": \"name\"})])\n",
        "  title=titledict[i][j]\n",
        "  year=int(get_year(d))\n",
        "  genre=get_genre(d)\n",
        "  detail_dict={'author_url':author_url,'author_name':author_name,'rating':rating,'genres':genre,'isbn':isbn,'ratingCount':ratingCount,'title':title,'year':year}\n",
        "  return detail_dict"
      ],
      "execution_count": 187,
      "outputs": []
    },
    {
      "cell_type": "code",
      "metadata": {
        "id": "tTLIZfeXMGge"
      },
      "source": [
        "from tqdm.notebook import tqdm"
      ],
      "execution_count": 188,
      "outputs": []
    },
    {
      "cell_type": "code",
      "metadata": {
        "colab": {
          "base_uri": "https://localhost:8080/",
          "height": 118,
          "referenced_widgets": [
            "09537c70690c4f4ba2146b0679efedae",
            "2b2a2b8cc19340c49ffb806c73d9b61d",
            "9fc0feab62df4c43a0e8242b0a3ea261",
            "22660c4c42c94af5be0b11126b2feae5",
            "c31e8f292ca24d0a8eac09125c057971",
            "19c084df067e4cdc9465fb2367d4f84d",
            "5cb91cc88b79408a914e9fb3e4158d5a",
            "cd619c3d897d45eb9cf91e6c91973e5a",
            "5bd4cdfde85048ff81fa2b4362ab3f3b",
            "f2686f6274bb4b8ab3dfeb790a1e51aa",
            "5f7048fdc0a64a4bbbe451e74a06d3bc",
            "115f616d792140e79c2ae3e8a5659406",
            "ff814ceb7ca34216a909577a24d4d792",
            "8fc1ef4952054b1c8e706c048d47f25f",
            "7337ea7085454095b18443d736549c41",
            "08288862cd5046499ba3677162d12002"
          ]
        },
        "id": "wblMYpMXgeWr",
        "outputId": "6c6a27bb-5de2-405f-9682-77e8b5c3a2e3"
      },
      "source": [
        "#Fetching the actual 200 book pages\r\n",
        "#In the interest of time, we are taking just the first 10 of each page. Running this for 200 books takes 25 min!\r\n",
        "bookdict={}\r\n",
        "listofdicts=[]\r\n",
        "#your code here\r\n",
        "for i in range(1,3):\r\n",
        "  for j in tqdm(range(100)):\r\n",
        "    url=URLSTART+urldict[i][j]\r\n",
        "    book_data=requests.get(url).text\r\n",
        "    book_soup=BeautifulSoup(book_data,'html.parser')\r\n",
        "    bookdict[i]=book_soup\r\n",
        "    listofdicts.append(get_details(book_soup,i,j))\r\n",
        "    time.sleep(10)\r\n"
      ],
      "execution_count": 189,
      "outputs": [
        {
          "output_type": "display_data",
          "data": {
            "application/vnd.jupyter.widget-view+json": {
              "model_id": "09537c70690c4f4ba2146b0679efedae",
              "version_minor": 0,
              "version_major": 2
            },
            "text/plain": [
              "HBox(children=(FloatProgress(value=0.0), HTML(value='')))"
            ]
          },
          "metadata": {
            "tags": []
          }
        },
        {
          "output_type": "stream",
          "text": [
            "\n"
          ],
          "name": "stdout"
        },
        {
          "output_type": "display_data",
          "data": {
            "application/vnd.jupyter.widget-view+json": {
              "model_id": "5bd4cdfde85048ff81fa2b4362ab3f3b",
              "version_minor": 0,
              "version_major": 2
            },
            "text/plain": [
              "HBox(children=(FloatProgress(value=0.0), HTML(value='')))"
            ]
          },
          "metadata": {
            "tags": []
          }
        },
        {
          "output_type": "stream",
          "text": [
            "\n"
          ],
          "name": "stdout"
        }
      ]
    },
    {
      "cell_type": "markdown",
      "metadata": {
        "id": "ZjtwDg2LJpuv"
      },
      "source": [
        "### 4.4 Creating a DataFrame\r\n",
        "\r\n",
        "Convert the list of dictionaries created above to a Pandas DataFrame"
      ]
    },
    {
      "cell_type": "code",
      "metadata": {
        "id": "i0bGQ8l-_380",
        "colab": {
          "base_uri": "https://localhost:8080/",
          "height": 537
        },
        "outputId": "cb6eac0d-63b8-4665-f603-bba3b77734b5"
      },
      "source": [
        "df = pd.DataFrame.from_records(listofdicts)\n",
        "df.iloc[10:20]"
      ],
      "execution_count": 190,
      "outputs": [
        {
          "output_type": "execute_result",
          "data": {
            "text/html": [
              "<div>\n",
              "<style scoped>\n",
              "    .dataframe tbody tr th:only-of-type {\n",
              "        vertical-align: middle;\n",
              "    }\n",
              "\n",
              "    .dataframe tbody tr th {\n",
              "        vertical-align: top;\n",
              "    }\n",
              "\n",
              "    .dataframe thead th {\n",
              "        text-align: right;\n",
              "    }\n",
              "</style>\n",
              "<table border=\"1\" class=\"dataframe\">\n",
              "  <thead>\n",
              "    <tr style=\"text-align: right;\">\n",
              "      <th></th>\n",
              "      <th>author_url</th>\n",
              "      <th>author_name</th>\n",
              "      <th>rating</th>\n",
              "      <th>genres</th>\n",
              "      <th>isbn</th>\n",
              "      <th>ratingCount</th>\n",
              "      <th>title</th>\n",
              "      <th>year</th>\n",
              "    </tr>\n",
              "  </thead>\n",
              "  <tbody>\n",
              "    <tr>\n",
              "      <th>10</th>\n",
              "      <td>https://www.goodreads.com/author/show/11081.Ma...</td>\n",
              "      <td>Margaret Mitchell</td>\n",
              "      <td>4.30</td>\n",
              "      <td>/genres/classics|/genres/historical|/genres/hi...</td>\n",
              "      <td>9780446675536</td>\n",
              "      <td>1093201</td>\n",
              "      <td>Gone with the Wind</td>\n",
              "      <td>1936</td>\n",
              "    </tr>\n",
              "    <tr>\n",
              "      <th>11</th>\n",
              "      <td>https://www.goodreads.com/author/show/4.Dougla...</td>\n",
              "      <td>Douglas Adams</td>\n",
              "      <td>4.22</td>\n",
              "      <td>/genres/science-fiction|/genres/fiction|/genre...</td>\n",
              "      <td>NA</td>\n",
              "      <td>1485735</td>\n",
              "      <td>The Hitchhiker's Guide to the Galaxy (Hitchhik...</td>\n",
              "      <td>1979</td>\n",
              "    </tr>\n",
              "    <tr>\n",
              "      <th>12</th>\n",
              "      <td>https://www.goodreads.com/author/show/435477.S...</td>\n",
              "      <td>Shel Silverstein</td>\n",
              "      <td>4.37</td>\n",
              "      <td>/genres/childrens|/genres/childrens|/genres/pi...</td>\n",
              "      <td>9780060256654</td>\n",
              "      <td>932836</td>\n",
              "      <td>The Giving Tree</td>\n",
              "      <td>1964</td>\n",
              "    </tr>\n",
              "    <tr>\n",
              "      <th>13</th>\n",
              "      <td>https://www.goodreads.com/author/show/4191.Emi...</td>\n",
              "      <td>Emily Brontë,Richard J. Dunn,Charlotte Brontë,...</td>\n",
              "      <td>3.86</td>\n",
              "      <td>/genres/classics|/genres/fiction|/genres/roman...</td>\n",
              "      <td>9780393978896</td>\n",
              "      <td>1384781</td>\n",
              "      <td>Wuthering Heights</td>\n",
              "      <td>1847</td>\n",
              "    </tr>\n",
              "    <tr>\n",
              "      <th>14</th>\n",
              "      <td>https://www.goodreads.com/author/show/630.Dan_...</td>\n",
              "      <td>Dan Brown</td>\n",
              "      <td>3.86</td>\n",
              "      <td>/genres/fiction|/genres/mystery|/genres/thrill...</td>\n",
              "      <td>NA</td>\n",
              "      <td>1984297</td>\n",
              "      <td>The Da Vinci Code (Robert Langdon, #2)</td>\n",
              "      <td>2003</td>\n",
              "    </tr>\n",
              "    <tr>\n",
              "      <th>15</th>\n",
              "      <td>https://www.goodreads.com/author/show/3565.Osc...</td>\n",
              "      <td>Oscar Wilde,Jeffrey Eugenides</td>\n",
              "      <td>4.09</td>\n",
              "      <td>/genres/classics|/genres/fiction|/genres/horro...</td>\n",
              "      <td>NA</td>\n",
              "      <td>1007107</td>\n",
              "      <td>The Picture of Dorian Gray</td>\n",
              "      <td>1890</td>\n",
              "    </tr>\n",
              "    <tr>\n",
              "      <th>16</th>\n",
              "      <td>https://www.goodreads.com/author/show/614.Arth...</td>\n",
              "      <td>Arthur Golden</td>\n",
              "      <td>4.12</td>\n",
              "      <td>/genres/fiction|/genres/historical|/genres/his...</td>\n",
              "      <td>9781400096893</td>\n",
              "      <td>1752039</td>\n",
              "      <td>Memoirs of a Geisha</td>\n",
              "      <td>1997</td>\n",
              "    </tr>\n",
              "    <tr>\n",
              "      <th>17</th>\n",
              "      <td>https://www.goodreads.com/author/show/1036615....</td>\n",
              "      <td>Charlotte Brontë,Michael Mason,Sylvère Monod,B...</td>\n",
              "      <td>4.13</td>\n",
              "      <td>/genres/classics|/genres/fiction|/genres/roman...</td>\n",
              "      <td>9780142437209</td>\n",
              "      <td>1672342</td>\n",
              "      <td>Jane Eyre</td>\n",
              "      <td>1847</td>\n",
              "    </tr>\n",
              "    <tr>\n",
              "      <th>18</th>\n",
              "      <td>https://www.goodreads.com/author/show/8164.Lew...</td>\n",
              "      <td>Lewis Carroll,John Tenniel,Martin Gardner</td>\n",
              "      <td>4.06</td>\n",
              "      <td>/genres/classics|/genres/fantasy|/genres/ficti...</td>\n",
              "      <td>9780451527745</td>\n",
              "      <td>472610</td>\n",
              "      <td>Alice's Adventures in Wonderland / Through the...</td>\n",
              "      <td>1871</td>\n",
              "    </tr>\n",
              "    <tr>\n",
              "      <th>19</th>\n",
              "      <td>https://www.goodreads.com/author/show/13661.Vi...</td>\n",
              "      <td>Victor Hugo,Lee Fahnestock,Norman MacAfee</td>\n",
              "      <td>4.18</td>\n",
              "      <td>/genres/classics|/genres/fiction|/genres/histo...</td>\n",
              "      <td>NA</td>\n",
              "      <td>695903</td>\n",
              "      <td>Les Misérables</td>\n",
              "      <td>1862</td>\n",
              "    </tr>\n",
              "  </tbody>\n",
              "</table>\n",
              "</div>"
            ],
            "text/plain": [
              "                                           author_url  ...  year\n",
              "10  https://www.goodreads.com/author/show/11081.Ma...  ...  1936\n",
              "11  https://www.goodreads.com/author/show/4.Dougla...  ...  1979\n",
              "12  https://www.goodreads.com/author/show/435477.S...  ...  1964\n",
              "13  https://www.goodreads.com/author/show/4191.Emi...  ...  1847\n",
              "14  https://www.goodreads.com/author/show/630.Dan_...  ...  2003\n",
              "15  https://www.goodreads.com/author/show/3565.Osc...  ...  1890\n",
              "16  https://www.goodreads.com/author/show/614.Arth...  ...  1997\n",
              "17  https://www.goodreads.com/author/show/1036615....  ...  1847\n",
              "18  https://www.goodreads.com/author/show/8164.Lew...  ...  1871\n",
              "19  https://www.goodreads.com/author/show/13661.Vi...  ...  1862\n",
              "\n",
              "[10 rows x 8 columns]"
            ]
          },
          "metadata": {
            "tags": []
          },
          "execution_count": 190
        }
      ]
    },
    {
      "cell_type": "markdown",
      "metadata": {
        "id": "oJPAaLqvQkuB"
      },
      "source": [
        "Convert this dataframe to a csv file and store it using `to_csv`."
      ]
    },
    {
      "cell_type": "code",
      "metadata": {
        "id": "iSgShg17_383"
      },
      "source": [
        "df.to_csv(\"Goodreads.csv\", index=False, header=True)"
      ],
      "execution_count": 191,
      "outputs": []
    }
  ]
}